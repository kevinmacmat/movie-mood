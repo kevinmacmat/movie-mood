{
 "cells": [
  {
   "cell_type": "code",
   "execution_count": null,
   "metadata": {},
   "outputs": [],
   "source": [
    "import pandas as pd\n",
    "import numpy as np\n",
    "import requests\n",
    "import matplotlib.pyplot as plt\n",
    "import json\n",
    "from bs4 import BeautifulSoup\n",
    "import re\n",
    "import urllib\n",
    "import os\n",
    "from functions import * #will take a while to load\n",
    "import seaborn as sns"
   ]
  },
  {
   "cell_type": "markdown",
   "metadata": {},
   "source": [
    "# Final Script\n",
    " Script scrapes data from boxmojo's website. Obtains information of top 100 movies and their domestic and foriegn revenue"
   ]
  },
  {
   "cell_type": "code",
   "execution_count": null,
   "metadata": {},
   "outputs": [],
   "source": [
    "# get a list of link list and country list from functions\n",
    "link_list = get_worldwide_link_list(url) #lengthy load\n",
    "country_list = get_country_hyperlinks(link_list) "
   ]
  },
  {
   "cell_type": "code",
   "execution_count": null,
   "metadata": {},
   "outputs": [],
   "source": [
    "#make_or_clear_movies_csv('movies_test.csv') #check for existing csv, if doesnt exist, make one, else clear it out\n",
    "url = 'https://www.boxofficemojo.com/year/world/'\n",
    "\n",
    "for country in country_list:  #country_list #get 1 title's hyperlink for all countries\n",
    "\n",
    "    df1 = pd.DataFrame(get_countries_for_title(country)) #returns first dataframe with country data\n",
    "\n",
    "    url2 = reroute_twice(country) #get to cast hyperlink\n",
    "    \n",
    "    df2 = pd.DataFrame(scrape_actors(url2)) #scrape actors and return second dataframe\n",
    "\n",
    "    if not df1.empty:  #If the first df is not empty then fill values and concat -> save\n",
    "        final_df = fill_values(df1, df2) #Fills NaN values with actor names and concatenates\n",
    "        result = pd.DataFrame(final_df)\n",
    "        data_save(result,'movies_test.csv')\n",
    "        print('saving')\n"
   ]
  }
 ],
 "metadata": {
  "kernelspec": {
   "display_name": "Python 3",
   "language": "python",
   "name": "python3"
  },
  "language_info": {
   "codemirror_mode": {
    "name": "ipython",
    "version": 3
   },
   "file_extension": ".py",
   "mimetype": "text/x-python",
   "name": "python",
   "nbconvert_exporter": "python",
   "pygments_lexer": "ipython3",
   "version": "3.7.6"
  }
 },
 "nbformat": 4,
 "nbformat_minor": 4
}
