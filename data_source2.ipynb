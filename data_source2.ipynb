{
 "cells": [
  {
   "cell_type": "code",
   "execution_count": 1,
   "metadata": {},
   "outputs": [],
   "source": [
    "import pandas as pd\n",
    "import numpy as np\n",
    "import requests\n",
    "from bs4 import BeautifulSoup\n",
    "import seaborn as sns\n",
    "import re\n",
    "import matplotlib.pyplot as plt"
   ]
  },
  {
   "cell_type": "code",
   "execution_count": 2,
   "metadata": {},
   "outputs": [],
   "source": [
    "boxmojo = pd.read_csv('boxmojo_db.csv')\n",
    "# rating_db = pd.read_csv('title.ratings.tsv',sep = '\\t')\n",
    "# basics_db = pd.read_csv('title.basics.tsv',sep = '\\t')"
   ]
  },
  {
   "cell_type": "code",
   "execution_count": 58,
   "metadata": {},
   "outputs": [],
   "source": [
    "country_budget = pd.read_csv('country_production_budgets.csv')"
   ]
  },
  {
   "cell_type": "code",
   "execution_count": 4,
   "metadata": {},
   "outputs": [],
   "source": [
    "#cleans boxmojo gross column\n",
    "boxmojo['Gross'] = boxmojo['Gross'].str.replace(',', '').str.replace('$', '')\n",
    "boxmojo['Gross'] = boxmojo['Gross'].apply(pd.to_numeric,errors = 'coerce')\n",
    "boxmojo.dropna(inplace = True)"
   ]
  },
  {
   "cell_type": "code",
   "execution_count": 59,
   "metadata": {},
   "outputs": [],
   "source": [
    "#clean Average Production Budget\n",
    "country_budget['Average Production Budget'] = country_budget['Average Production Budget'].str.replace(',', '').str.replace('$', '')\n",
    "country_budget['Average Production Budget'] = country_budget['Average Production Budget'].apply(pd.to_numeric,errors = 'coerce')"
   ]
  },
  {
   "cell_type": "code",
   "execution_count": 6,
   "metadata": {},
   "outputs": [],
   "source": [
    "#clean Total Worldwide Box Office\n",
    "country_budget['Total Worldwide Box Office'] = country_budget['Total Worldwide Box Office'].str.replace(',', '').str.replace('$', '')\n",
    "country_budget['Total Worldwide Box Office'] = country_budget['Total Worldwide Box Office'].apply(pd.to_numeric,errors = 'coerce')"
   ]
  },
  {
   "cell_type": "code",
   "execution_count": 60,
   "metadata": {},
   "outputs": [],
   "source": [
    "#clean no. of movies\n",
    "country_budget['No. Movies'] = country_budget['No. Movies'].str.replace(',', '').str.replace('$', '')\n",
    "country_budget['No. Movies'] = country_budget['No. Movies'].apply(pd.to_numeric,errors = 'coerce')"
   ]
  },
  {
   "cell_type": "code",
   "execution_count": 61,
   "metadata": {
    "scrolled": true
   },
   "outputs": [],
   "source": [
    "country_budget = country_budget.drop(['Total Worldwide Box Office'],axis = 1)"
   ]
  },
  {
   "cell_type": "code",
   "execution_count": 62,
   "metadata": {},
   "outputs": [],
   "source": [
    "country_budget_df = country_budget[2:22]"
   ]
  },
  {
   "cell_type": "code",
   "execution_count": 63,
   "metadata": {
    "scrolled": true
   },
   "outputs": [
    {
     "data": {
      "text/plain": [
       "1684"
      ]
     },
     "execution_count": 63,
     "metadata": {},
     "output_type": "execute_result"
    }
   ],
   "source": [
    "country_budget_df['No. Movies'].iloc[0]"
   ]
  },
  {
   "cell_type": "code",
   "execution_count": 11,
   "metadata": {},
   "outputs": [],
   "source": [
    "gross_by_country = boxmojo.groupby('Market')['Gross'].sum()"
   ]
  },
  {
   "cell_type": "code",
   "execution_count": 12,
   "metadata": {
    "scrolled": true
   },
   "outputs": [],
   "source": [
    "gross_by_country = pd.DataFrame(gross_by_country)"
   ]
  },
  {
   "cell_type": "code",
   "execution_count": 13,
   "metadata": {},
   "outputs": [
    {
     "data": {
      "text/plain": [
       "array(['Austria', 'Belgium', 'Bulgaria', 'Croatia', 'Czech Republic',\n",
       "       'Denmark', 'Egypt', 'Finland', 'France', 'Germany', 'Greece',\n",
       "       'Hungary', 'Iceland', 'Italy', 'Lithuania', 'Netherlands',\n",
       "       'Nigeria', 'Norway', 'Poland', 'Portugal', 'Romania',\n",
       "       'Serbia and Montenegro', 'Slovakia', 'Slovenia', 'South Africa',\n",
       "       'Spain', 'Sweden', 'Switzerland', 'Turkey', 'Ukraine',\n",
       "       'United Arab Emirates', 'United Kingdom', 'Argentina', 'Bolivia',\n",
       "       'Brazil', 'Chile', 'Colombia', 'Mexico', 'Paraguay', 'Uruguay',\n",
       "       'Venezuela', 'Australia', 'Hong Kong', 'India', 'Indonesia',\n",
       "       'Japan', 'Malaysia', 'New Zealand', 'Philippines', 'Russia/CIS',\n",
       "       'Singapore', 'South Korea', 'Taiwan', 'Thailand', 'Vietnam',\n",
       "       'China', 'Russia', 'Bahrain', 'Estonia', 'Ghana', 'Israel',\n",
       "       'Jordan', 'Kenya', 'Kuwait', 'Latvia', 'Lebanon', 'Oman', 'Qatar',\n",
       "       'Aruba', 'Dominican Republic', 'Ecuador', 'Jamaica', 'Peru',\n",
       "       'Trinidad & Tobago', 'Mongolia', 'Pakistan', 'Saudi Arabia',\n",
       "       'Cyprus', 'Panama', 'Central America', 'Costa Rica', 'Honduras',\n",
       "       'Nicaragua', 'Sri Lanka', 'Bangladesh', 'Albania',\n",
       "       'Switzerland (French)', 'Switzerland (German)', 'Cambodia',\n",
       "       'Ethiopia', 'East Africa', 'Puerto Rico', 'Switzerland (Italian)',\n",
       "       'Iraq', 'Curaçao', 'West Indies', 'Palestine', 'El Salvador',\n",
       "       'Guatemala', 'South Africa/Nigeria', 'Central America+',\n",
       "       'Lesser Antilles', 'E/W Africa', 'Greece and Cyprus',\n",
       "       'Middle East Other', 'Czech Republic/Slovakia', 'S/E/W Africa',\n",
       "       'Laos', 'Middle East/UAE', 'North Macedonia', 'Russia/CIS/Ukraine',\n",
       "       'Netherlands Antilles', 'Baltic States',\n",
       "       'Lebanon/United Arab Emirates', 'Switzerland (French/Italian)',\n",
       "       'Malta', 'Middle East', 'Yugoslavia', 'Morocco'], dtype=object)"
      ]
     },
     "execution_count": 13,
     "metadata": {},
     "output_type": "execute_result"
    }
   ],
   "source": [
    "boxmojo['Market'].unique()\n"
   ]
  },
  {
   "cell_type": "code",
   "execution_count": 14,
   "metadata": {},
   "outputs": [
    {
     "data": {
      "text/plain": [
       "array(['Austria', 'Belgium', 'Bulgaria', ..., 'Italy', 'South Korea',\n",
       "       'China'], dtype=object)"
      ]
     },
     "execution_count": 14,
     "metadata": {},
     "output_type": "execute_result"
    }
   ],
   "source": [
    "boxmojo['Market'].values"
   ]
  },
  {
   "cell_type": "code",
   "execution_count": 15,
   "metadata": {},
   "outputs": [
    {
     "name": "stdout",
     "output_type": "stream",
     "text": [
      "yes  China\n",
      "yes  France\n",
      "yes  Japan\n",
      "yes  Germany\n",
      "yes  South Korea\n",
      "yes  Australia\n",
      "yes  India\n",
      "yes  New Zealand\n",
      "yes  Hong Kong\n",
      "yes  Italy\n",
      "yes  Spain\n",
      "yes  Belgium\n",
      "yes  Russia\n",
      "yes  Mexico\n",
      "yes  Netherlands\n",
      "yes  Sweden\n",
      "yes  Brazil\n",
      "yes  Turkey\n",
      "yes  Taiwan\n",
      "yes  Denmark\n"
     ]
    }
   ],
   "source": [
    "#check to make sure top countries follow same names\n",
    "list_of_countries_container = []\n",
    "c2 = []\n",
    "for country in country_budget_df['Country'].values:\n",
    "    if country in boxmojo['Market'].values:\n",
    "        list_of_countries_container.append(country)\n",
    "        print('yes ',country)\n",
    "    else:\n",
    "        c2.append(country)"
   ]
  },
  {
   "cell_type": "code",
   "execution_count": 16,
   "metadata": {},
   "outputs": [],
   "source": [
    "#'south korea', 'russian federation to russia', 'taiwan, province to taiwan'"
   ]
  },
  {
   "cell_type": "code",
   "execution_count": 64,
   "metadata": {},
   "outputs": [],
   "source": [
    "combined_df = pd.merge(gross_by_country,country_budget_df,left_on = 'Market',right_on = 'Country')\n",
    "sorted_combined_df = combined_df.sort_values(by = 'Gross', ascending = False)"
   ]
  },
  {
   "cell_type": "code",
   "execution_count": 65,
   "metadata": {
    "scrolled": true
   },
   "outputs": [
    {
     "data": {
      "image/png": "[encoded data removed]",
      "text/plain": [
       "<Figure size 720x432 with 1 Axes>"
      ]
     },
     "metadata": {},
     "output_type": "display_data"
    }
   ],
   "source": [
    "y = sorted_combined_df['Country'].values\n",
    "x = sorted_combined_df['Gross'].values\n",
    "sns.set(style=\"whitegrid\")\n",
    "fig,ax = plt.subplots(figsize = (10,6))\n",
    "sns.barplot(x,y,ax=ax)\n",
    "ax.set_title('Gross Foreign Revenue of Top 100 U.S. Produced Movies')\n",
    "ax.set_ylabel('Country')\n",
    "ax.set_xlabel('Gross $ (10 Billions)')\n",
    "plt.show()"
   ]
  },
  {
   "cell_type": "code",
   "execution_count": 66,
   "metadata": {},
   "outputs": [],
   "source": [
    "gross_df = pd.DataFrame(combined_df['Gross'])\n",
    "num_movies_df = combined_df['No. Movies'].values\n",
    "\n",
    "combined_df['Average Gross per Movie'] = combined_df['Gross']/combined_df['No. Movies']"
   ]
  },
  {
   "cell_type": "code",
   "execution_count": 67,
   "metadata": {},
   "outputs": [
    {
     "data": {
      "text/html": [
       "<div>\n",
       "<style scoped>\n",
       "    .dataframe tbody tr th:only-of-type {\n",
       "        vertical-align: middle;\n",
       "    }\n",
       "\n",
       "    .dataframe tbody tr th {\n",
       "        vertical-align: top;\n",
       "    }\n",
       "\n",
       "    .dataframe thead th {\n",
       "        text-align: right;\n",
       "    }\n",
       "</style>\n",
       "<table border=\"1\" class=\"dataframe\">\n",
       "  <thead>\n",
       "    <tr style=\"text-align: right;\">\n",
       "      <th></th>\n",
       "      <th>Gross</th>\n",
       "      <th>Country</th>\n",
       "      <th>No. Movies</th>\n",
       "      <th>Average Production Budget</th>\n",
       "      <th>Average Gross per Movie</th>\n",
       "    </tr>\n",
       "  </thead>\n",
       "  <tbody>\n",
       "    <tr>\n",
       "      <th>0</th>\n",
       "      <td>1.372774e+10</td>\n",
       "      <td>Australia</td>\n",
       "      <td>612</td>\n",
       "      <td>29924645</td>\n",
       "      <td>2.243095e+07</td>\n",
       "    </tr>\n",
       "    <tr>\n",
       "      <th>1</th>\n",
       "      <td>2.307136e+09</td>\n",
       "      <td>Belgium</td>\n",
       "      <td>467</td>\n",
       "      <td>19138484</td>\n",
       "      <td>4.940334e+06</td>\n",
       "    </tr>\n",
       "    <tr>\n",
       "      <th>2</th>\n",
       "      <td>8.307849e+09</td>\n",
       "      <td>Brazil</td>\n",
       "      <td>333</td>\n",
       "      <td>14530526</td>\n",
       "      <td>2.494849e+07</td>\n",
       "    </tr>\n",
       "    <tr>\n",
       "      <th>3</th>\n",
       "      <td>3.554564e+10</td>\n",
       "      <td>China</td>\n",
       "      <td>1684</td>\n",
       "      <td>31727059</td>\n",
       "      <td>2.110786e+07</td>\n",
       "    </tr>\n",
       "    <tr>\n",
       "      <th>4</th>\n",
       "      <td>1.767104e+09</td>\n",
       "      <td>Denmark</td>\n",
       "      <td>217</td>\n",
       "      <td>14355063</td>\n",
       "      <td>8.143335e+06</td>\n",
       "    </tr>\n",
       "    <tr>\n",
       "      <th>5</th>\n",
       "      <td>1.586066e+10</td>\n",
       "      <td>France</td>\n",
       "      <td>2753</td>\n",
       "      <td>23007232</td>\n",
       "      <td>5.761229e+06</td>\n",
       "    </tr>\n",
       "    <tr>\n",
       "      <th>6</th>\n",
       "      <td>1.599196e+10</td>\n",
       "      <td>Germany</td>\n",
       "      <td>1207</td>\n",
       "      <td>30993014</td>\n",
       "      <td>1.324934e+07</td>\n",
       "    </tr>\n",
       "    <tr>\n",
       "      <th>7</th>\n",
       "      <td>2.251298e+09</td>\n",
       "      <td>Hong Kong</td>\n",
       "      <td>355</td>\n",
       "      <td>24750000</td>\n",
       "      <td>6.341684e+06</td>\n",
       "    </tr>\n",
       "    <tr>\n",
       "      <th>8</th>\n",
       "      <td>1.986448e+09</td>\n",
       "      <td>India</td>\n",
       "      <td>1647</td>\n",
       "      <td>14424796</td>\n",
       "      <td>1.206101e+06</td>\n",
       "    </tr>\n",
       "    <tr>\n",
       "      <th>9</th>\n",
       "      <td>8.555759e+09</td>\n",
       "      <td>Italy</td>\n",
       "      <td>1131</td>\n",
       "      <td>16391000</td>\n",
       "      <td>7.564774e+06</td>\n",
       "    </tr>\n",
       "    <tr>\n",
       "      <th>10</th>\n",
       "      <td>1.660120e+10</td>\n",
       "      <td>Japan</td>\n",
       "      <td>1158</td>\n",
       "      <td>29453636</td>\n",
       "      <td>1.433610e+07</td>\n",
       "    </tr>\n",
       "    <tr>\n",
       "      <th>11</th>\n",
       "      <td>1.084887e+10</td>\n",
       "      <td>Mexico</td>\n",
       "      <td>365</td>\n",
       "      <td>11964516</td>\n",
       "      <td>2.972292e+07</td>\n",
       "    </tr>\n",
       "    <tr>\n",
       "      <th>12</th>\n",
       "      <td>3.615675e+09</td>\n",
       "      <td>Netherlands</td>\n",
       "      <td>359</td>\n",
       "      <td>26526667</td>\n",
       "      <td>1.007152e+07</td>\n",
       "    </tr>\n",
       "    <tr>\n",
       "      <th>13</th>\n",
       "      <td>6.032841e+08</td>\n",
       "      <td>Russia</td>\n",
       "      <td>735</td>\n",
       "      <td>13572310</td>\n",
       "      <td>8.207947e+05</td>\n",
       "    </tr>\n",
       "    <tr>\n",
       "      <th>14</th>\n",
       "      <td>1.023809e+10</td>\n",
       "      <td>South Korea</td>\n",
       "      <td>880</td>\n",
       "      <td>17430208</td>\n",
       "      <td>1.163419e+07</td>\n",
       "    </tr>\n",
       "    <tr>\n",
       "      <th>15</th>\n",
       "      <td>1.045081e+10</td>\n",
       "      <td>Spain</td>\n",
       "      <td>1006</td>\n",
       "      <td>24701437</td>\n",
       "      <td>1.038848e+07</td>\n",
       "    </tr>\n",
       "    <tr>\n",
       "      <th>16</th>\n",
       "      <td>2.436127e+09</td>\n",
       "      <td>Sweden</td>\n",
       "      <td>213</td>\n",
       "      <td>16142857</td>\n",
       "      <td>1.143722e+07</td>\n",
       "    </tr>\n",
       "    <tr>\n",
       "      <th>17</th>\n",
       "      <td>1.395634e+09</td>\n",
       "      <td>Switzerland</td>\n",
       "      <td>173</td>\n",
       "      <td>23051000</td>\n",
       "      <td>8.067246e+06</td>\n",
       "    </tr>\n",
       "    <tr>\n",
       "      <th>18</th>\n",
       "      <td>2.346025e+09</td>\n",
       "      <td>Taiwan</td>\n",
       "      <td>109</td>\n",
       "      <td>13883333</td>\n",
       "      <td>2.152317e+07</td>\n",
       "    </tr>\n",
       "    <tr>\n",
       "      <th>19</th>\n",
       "      <td>1.516166e+09</td>\n",
       "      <td>Turkey</td>\n",
       "      <td>787</td>\n",
       "      <td>10733333</td>\n",
       "      <td>1.926513e+06</td>\n",
       "    </tr>\n",
       "  </tbody>\n",
       "</table>\n",
       "</div>"
      ],
      "text/plain": [
       "           Gross      Country  No. Movies  Average Production Budget  \\\n",
       "0   1.372774e+10    Australia         612                   29924645   \n",
       "1   2.307136e+09      Belgium         467                   19138484   \n",
       "2   8.307849e+09       Brazil         333                   14530526   \n",
       "3   3.554564e+10        China        1684                   31727059   \n",
       "4   1.767104e+09      Denmark         217                   14355063   \n",
       "5   1.586066e+10       France        2753                   23007232   \n",
       "6   1.599196e+10      Germany        1207                   30993014   \n",
       "7   2.251298e+09    Hong Kong         355                   24750000   \n",
       "8   1.986448e+09        India        1647                   14424796   \n",
       "9   8.555759e+09        Italy        1131                   16391000   \n",
       "10  1.660120e+10        Japan        1158                   29453636   \n",
       "11  1.084887e+10       Mexico         365                   11964516   \n",
       "12  3.615675e+09  Netherlands         359                   26526667   \n",
       "13  6.032841e+08       Russia         735                   13572310   \n",
       "14  1.023809e+10  South Korea         880                   17430208   \n",
       "15  1.045081e+10        Spain        1006                   24701437   \n",
       "16  2.436127e+09       Sweden         213                   16142857   \n",
       "17  1.395634e+09  Switzerland         173                   23051000   \n",
       "18  2.346025e+09       Taiwan         109                   13883333   \n",
       "19  1.516166e+09       Turkey         787                   10733333   \n",
       "\n",
       "    Average Gross per Movie  \n",
       "0              2.243095e+07  \n",
       "1              4.940334e+06  \n",
       "2              2.494849e+07  \n",
       "3              2.110786e+07  \n",
       "4              8.143335e+06  \n",
       "5              5.761229e+06  \n",
       "6              1.324934e+07  \n",
       "7              6.341684e+06  \n",
       "8              1.206101e+06  \n",
       "9              7.564774e+06  \n",
       "10             1.433610e+07  \n",
       "11             2.972292e+07  \n",
       "12             1.007152e+07  \n",
       "13             8.207947e+05  \n",
       "14             1.163419e+07  \n",
       "15             1.038848e+07  \n",
       "16             1.143722e+07  \n",
       "17             8.067246e+06  \n",
       "18             2.152317e+07  \n",
       "19             1.926513e+06  "
      ]
     },
     "execution_count": 67,
     "metadata": {},
     "output_type": "execute_result"
    }
   ],
   "source": [
    "avg_gross_per_movie = combined_df['Average Gross per Movie']\n",
    "avg_prod = combined_df['Average Production Budget']\n",
    "combined_df"
   ]
  },
  {
   "cell_type": "code",
   "execution_count": 79,
   "metadata": {},
   "outputs": [
    {
     "data": {
      "text/plain": [
       "(array([ 0,  1,  2,  3,  4,  5,  6,  7,  8,  9, 10, 11, 12, 13, 14, 15, 16,\n",
       "        17, 18, 19]),\n",
       " <a list of 20 Text xticklabel objects>)"
      ]
     },
     "execution_count": 79,
     "metadata": {},
     "output_type": "execute_result"
    },
    {
     "data": {
      "image/png": "[encoded data removed]",
      "text/plain": [
       "<Figure size 720x432 with 1 Axes>"
      ]
     },
     "metadata": {},
     "output_type": "display_data"
    }
   ],
   "source": [
    "fig2,ax1 = plt.subplots(figsize=(10,6))\n",
    "# ax1.scatter(avg_prod,avg_gross_per_movie)\n",
    "sns.barplot(combined_df['Country'],avg_gross_per_movie, ax = ax1, color = None, edgecolor = 'blue')\n",
    "\n",
    "bottom = sns.barplot(combined_df['Country'],avg_prod, ax = ax1, color = None, edgecolor = 'red')\n",
    "plt.xticks(rotation = 90)\n",
    "# plt.legend(['Average Production Cost','Average Gross per Movie'])"
   ]
  },
  {
   "cell_type": "code",
   "execution_count": 84,
   "metadata": {},
   "outputs": [
    {
     "data": {
      "text/plain": [
       "([0, 1, 2, 3, 4, 5, 6, 7, 8, 9, 10, 11, 12, 13, 14, 15, 16, 17, 18, 19],\n",
       " <a list of 20 Text xticklabel objects>)"
      ]
     },
     "execution_count": 84,
     "metadata": {},
     "output_type": "execute_result"
    },
    {
     "data": {
      "image/png": "[encoded data removed]",
      "text/plain": [
       "<Figure size 720x432 with 2 Axes>"
      ]
     },
     "metadata": {},
     "output_type": "display_data"
    }
   ],
   "source": [
    "fig2,ax1 = plt.subplots(figsize=(10,6))\n",
    "# ax1.scatter(avg_prod,avg_gross_per_movie)\n",
    "ax2 = ax1.twinx()\n",
    "ax1.bar(combined_df['Country'],avg_gross_per_movie, color = None, edgecolor = 'blue')\n",
    "\n",
    "ax2.bar(combined_df['Country'],avg_prod, color = None, edgecolor = 'red')\n",
    "plt.xticks(rotation = 90)\n",
    "# plt.legend(['Average Production Cost','Average Gross per Movie'])"
   ]
  },
  {
   "cell_type": "code",
   "execution_count": null,
   "metadata": {},
   "outputs": [],
   "source": []
  }
 ],
 "metadata": {
  "kernelspec": {
   "display_name": "Python 3",
   "language": "python",
   "name": "python3"
  },
  "language_info": {
   "codemirror_mode": {
    "name": "ipython",
    "version": 3
   },
   "file_extension": ".py",
   "mimetype": "text/x-python",
   "name": "python",
   "nbconvert_exporter": "python",
   "pygments_lexer": "ipython3",
   "version": "3.7.6"
  }
 },
 "nbformat": 4,
 "nbformat_minor": 4
}
